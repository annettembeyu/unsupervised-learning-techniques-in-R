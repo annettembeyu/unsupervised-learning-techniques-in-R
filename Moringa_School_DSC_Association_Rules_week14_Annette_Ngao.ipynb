{
  "nbformat": 4,
  "nbformat_minor": 0,
  "metadata": {
    "colab": {
      "name": "Moringa_School_DSC_Association_Rules_week14_Annette_Ngao.ipynb",
      "provenance": [],
      "collapsed_sections": [],
      "authorship_tag": "ABX9TyP0K1OwUjfXc/t+7C4Rsl78",
      "include_colab_link": true
    },
    "kernelspec": {
      "name": "ir",
      "display_name": "R"
    }
  },
  "cells": [
    {
      "cell_type": "markdown",
      "metadata": {
        "id": "view-in-github",
        "colab_type": "text"
      },
      "source": [
        "<a href=\"https://colab.research.google.com/github/annettembeyu/unsupervised-learning-techniques-in-R/blob/main/Moringa_School_DSC_Association_Rules_week14_Annette_Ngao.ipynb\" target=\"_parent\"><img src=\"https://colab.research.google.com/assets/colab-badge.svg\" alt=\"Open In Colab\"/></a>"
      ]
    },
    {
      "cell_type": "markdown",
      "metadata": {
        "id": "4fHZwGR-NwQU"
      },
      "source": [
        "# Carre Four Sales Analysis\n",
        "\n"
      ]
    },
    {
      "cell_type": "markdown",
      "metadata": {
        "id": "EUBCa2GNOrRn"
      },
      "source": [
        "## Defining the Research Question\n",
        "\n",
        "\n",
        "*   Identify identify the items that are most likely to be in the same basket when shopping.\n",
        "\n",
        "\n"
      ]
    },
    {
      "cell_type": "markdown",
      "metadata": {
        "id": "1cTvTGuLOEoV"
      },
      "source": [
        "## Context\n",
        "\n",
        "The project entails analysing supermarket transaction containing the different items bought by customer. "
      ]
    },
    {
      "cell_type": "markdown",
      "metadata": {
        "id": "HHv2xwPvPrrp"
      },
      "source": [
        "## Metric of Success\n",
        "\n",
        "The research will have achieved its objective when:\n",
        "\n",
        "*  correct identification of the rules of associations for items bought and the likelihood of items to be in the same basket."
      ]
    },
    {
      "cell_type": "markdown",
      "metadata": {
        "id": "-Klnqm4hEkYZ"
      },
      "source": [
        "## Details of the data\n",
        "\n",
        "The dataset has 7501 rows and 20 columns. The attributes in the data are as follows:\n",
        "\n",
        " * shrimp\n",
        " * almonds\n",
        " * avocado\n",
        " * vegetables mix\n",
        " * green grapes\n",
        " * whole weat flour\n",
        " * yams\n",
        " * cottage cheese\n",
        " * energy drink\n",
        " * tomato juice\n",
        " * low fat yogurt\n",
        " * green tea\n",
        " * honey \n",
        " * salad\n",
        " * mineral water\n",
        " * salmon\n",
        " * antioxydant juice\n",
        " * frozen smoothie\n",
        " * spinach\n",
        " * olive.oil "
      ]
    },
    {
      "cell_type": "markdown",
      "metadata": {
        "id": "jpAbw0mM3quL"
      },
      "source": [
        "## Data appropriateness"
      ]
    },
    {
      "cell_type": "markdown",
      "metadata": {
        "id": "_OOLqd0a3v45"
      },
      "source": [
        "The information gathered is appropriate to draw insight on the buying trends of customers in terms of the items that are most likely to be bought together."
      ]
    },
    {
      "cell_type": "markdown",
      "metadata": {
        "id": "go3NWPSKQlij"
      },
      "source": [
        "## Experimental Design\n",
        "\n",
        "*  Loading and previewing the dataset \n",
        "*  Data Description\n",
        "*  Data Cleaning;\n",
        "*  Exploratory Data Analysis\n",
        "* Implementing the Solution\n",
        "*  Challenging the Solution\n",
        "*  Conclusion\n",
        "   "
      ]
    },
    {
      "cell_type": "markdown",
      "metadata": {
        "id": "4E12Rq_REVTN"
      },
      "source": [
        "## Loading and previewing the dataset "
      ]
    },
    {
      "cell_type": "code",
      "metadata": {
        "id": "Dq-E6BwYte3K",
        "outputId": "e07ca5ea-0231-44a5-b590-86424ba3e02d",
        "colab": {
          "base_uri": "https://localhost:8080/"
        }
      },
      "source": [
        "# Loading the relevant library necessary to read the data in the correct format\n",
        "install.packages(\"tidyverse\")\n",
        "install.packages(\"readr\")\n",
        "install.packages(\"data.table\", dependencies= TRUE)\n",
        "library(tidyverse)  # data manipulation and visualization\n",
        "library(data.table)"
      ],
      "execution_count": 1,
      "outputs": [
        {
          "output_type": "stream",
          "text": [
            "Installing package into ‘/usr/local/lib/R/site-library’\n",
            "(as ‘lib’ is unspecified)\n",
            "\n",
            "Installing package into ‘/usr/local/lib/R/site-library’\n",
            "(as ‘lib’ is unspecified)\n",
            "\n",
            "Installing package into ‘/usr/local/lib/R/site-library’\n",
            "(as ‘lib’ is unspecified)\n",
            "\n",
            "── \u001b[1mAttaching packages\u001b[22m ─────────────────────────────────────── tidyverse 1.3.0 ──\n",
            "\n",
            "\u001b[32m✔\u001b[39m \u001b[34mggplot2\u001b[39m 3.3.2     \u001b[32m✔\u001b[39m \u001b[34mpurrr  \u001b[39m 0.3.4\n",
            "\u001b[32m✔\u001b[39m \u001b[34mtibble \u001b[39m 3.0.4     \u001b[32m✔\u001b[39m \u001b[34mdplyr  \u001b[39m 1.0.2\n",
            "\u001b[32m✔\u001b[39m \u001b[34mtidyr  \u001b[39m 1.1.2     \u001b[32m✔\u001b[39m \u001b[34mstringr\u001b[39m 1.4.0\n",
            "\u001b[32m✔\u001b[39m \u001b[34mreadr  \u001b[39m 1.4.0     \u001b[32m✔\u001b[39m \u001b[34mforcats\u001b[39m 0.5.0\n",
            "\n",
            "── \u001b[1mConflicts\u001b[22m ────────────────────────────────────────── tidyverse_conflicts() ──\n",
            "\u001b[31m✖\u001b[39m \u001b[34mdplyr\u001b[39m::\u001b[32mfilter()\u001b[39m masks \u001b[34mstats\u001b[39m::filter()\n",
            "\u001b[31m✖\u001b[39m \u001b[34mdplyr\u001b[39m::\u001b[32mlag()\u001b[39m    masks \u001b[34mstats\u001b[39m::lag()\n",
            "\n",
            "\n",
            "Attaching package: ‘data.table’\n",
            "\n",
            "\n",
            "The following objects are masked from ‘package:dplyr’:\n",
            "\n",
            "    between, first, last\n",
            "\n",
            "\n",
            "The following object is masked from ‘package:purrr’:\n",
            "\n",
            "    transpose\n",
            "\n",
            "\n"
          ],
          "name": "stderr"
        }
      ]
    },
    {
      "cell_type": "code",
      "metadata": {
        "id": "l8S9m9GZge_a"
      },
      "source": [
        "# Installing and loading the relevant package for association analysis\n",
        "suppressWarnings(\n",
        "        suppressMessages(if\n",
        "                         (!require(arules, quietly=TRUE))\n",
        "                install.packages(\"arules\")))\n",
        "library(arules)"
      ],
      "execution_count": 2,
      "outputs": []
    },
    {
      "cell_type": "code",
      "metadata": {
        "id": "Uudxm1_j-Dwu",
        "outputId": "2758901d-8d40-4c11-c6a9-916581632f67",
        "colab": {
          "base_uri": "https://localhost:8080/"
        }
      },
      "source": [
        "# Loading the dataset\n",
        "sales_df <- read.transactions(\"Supermarket_Sales_Dataset II.csv\",sep=\",\")"
      ],
      "execution_count": 3,
      "outputs": [
        {
          "output_type": "stream",
          "text": [
            "Warning message in asMethod(object):\n",
            "“removing duplicated items in transactions”\n"
          ],
          "name": "stderr"
        }
      ]
    },
    {
      "cell_type": "code",
      "metadata": {
        "id": "Y1P9iJYnfvKJ",
        "outputId": "f6033ccc-3f28-4c03-c982-13e5815619fa",
        "colab": {
          "base_uri": "https://localhost:8080/"
        }
      },
      "source": [
        "# previewing the dataset by looking at the first 6 rows\n",
        "inspect(sales_df[1:6])"
      ],
      "execution_count": 4,
      "outputs": [
        {
          "output_type": "stream",
          "text": [
            "    items              \n",
            "[1] {almonds,          \n",
            "     antioxydant juice,\n",
            "     avocado,          \n",
            "     cottage cheese,   \n",
            "     energy drink,     \n",
            "     frozen smoothie,  \n",
            "     green grapes,     \n",
            "     green tea,        \n",
            "     honey,            \n",
            "     low fat yogurt,   \n",
            "     mineral water,    \n",
            "     olive oil,        \n",
            "     salad,            \n",
            "     salmon,           \n",
            "     shrimp,           \n",
            "     spinach,          \n",
            "     tomato juice,     \n",
            "     vegetables mix,   \n",
            "     whole weat flour, \n",
            "     yams}             \n",
            "[2] {burgers,          \n",
            "     eggs,             \n",
            "     meatballs}        \n",
            "[3] {chutney}          \n",
            "[4] {avocado,          \n",
            "     turkey}           \n",
            "[5] {energy bar,       \n",
            "     green tea,        \n",
            "     milk,             \n",
            "     mineral water,    \n",
            "     whole wheat rice} \n",
            "[6] {low fat yogurt}   \n"
          ],
          "name": "stdout"
        }
      ]
    },
    {
      "cell_type": "code",
      "metadata": {
        "id": "aU-8ic3JzpGe",
        "outputId": "60074510-1f70-438b-ed56-80ce0acbf545",
        "colab": {
          "base_uri": "https://localhost:8080/"
        }
      },
      "source": [
        "# previewing the dataset by looking at the last 6 rows\n",
        "inspect(sales_df[7495:7500])"
      ],
      "execution_count": 5,
      "outputs": [
        {
          "output_type": "stream",
          "text": [
            "    items              \n",
            "[1] {burgers,          \n",
            "     dessert wine,     \n",
            "     frozen smoothie,  \n",
            "     milk,             \n",
            "     oil,              \n",
            "     pancakes,         \n",
            "     pasta,            \n",
            "     pepper,           \n",
            "     shrimp,           \n",
            "     tomatoes,         \n",
            "     turkey,           \n",
            "     whole wheat rice} \n",
            "[2] {light mayo,       \n",
            "     pancakes}         \n",
            "[3] {butter,           \n",
            "     fresh bread,      \n",
            "     light mayo}       \n",
            "[4] {burgers,          \n",
            "     eggs,             \n",
            "     french fries,     \n",
            "     frozen vegetables,\n",
            "     green tea,        \n",
            "     magazines}        \n",
            "[5] {chicken}          \n",
            "[6] {escalope,         \n",
            "     green tea}        \n"
          ],
          "name": "stdout"
        }
      ]
    },
    {
      "cell_type": "markdown",
      "metadata": {
        "id": "rIAscWNmF_hq"
      },
      "source": [
        " ## Data Description"
      ]
    },
    {
      "cell_type": "code",
      "metadata": {
        "id": "0_yKhCjCGCkz",
        "outputId": "0904931d-4e4f-4cb8-b976-d506ea034e65",
        "colab": {
          "base_uri": "https://localhost:8080/",
          "height": 302
        }
      },
      "source": [
        "# previewing the dataset to get the details\n",
        "print('The datatypes of the attributes in the dataset:');str(sales_df)\n",
        "print('The number of columns and rows consecutively are:');dim(sales_df)\n",
        "print('The format of the dataset:');class(sales_df)"
      ],
      "execution_count": 6,
      "outputs": [
        {
          "output_type": "stream",
          "text": [
            "[1] \"The datatypes of the attributes in the dataset:\"\n",
            "Formal class 'transactions' [package \"arules\"] with 3 slots\n",
            "  ..@ data       :Formal class 'ngCMatrix' [package \"Matrix\"] with 5 slots\n",
            "  .. .. ..@ i       : int [1:29358] 0 1 3 32 38 47 52 53 59 64 ...\n",
            "  .. .. ..@ p       : int [1:7502] 0 20 23 24 26 31 32 34 37 40 ...\n",
            "  .. .. ..@ Dim     : int [1:2] 119 7501\n",
            "  .. .. ..@ Dimnames:List of 2\n",
            "  .. .. .. ..$ : NULL\n",
            "  .. .. .. ..$ : NULL\n",
            "  .. .. ..@ factors : list()\n",
            "  ..@ itemInfo   :'data.frame':\t119 obs. of  1 variable:\n",
            "  .. ..$ labels: chr [1:119] \"almonds\" \"antioxydant juice\" \"asparagus\" \"avocado\" ...\n",
            "  ..@ itemsetInfo:'data.frame':\t0 obs. of  0 variables\n",
            "[1] \"The number of columns and rows consecutively are:\"\n"
          ],
          "name": "stdout"
        },
        {
          "output_type": "display_data",
          "data": {
            "text/plain": [
              "[1] 7501  119"
            ],
            "text/latex": "\\begin{enumerate*}\n\\item 7501\n\\item 119\n\\end{enumerate*}\n",
            "text/markdown": "1. 7501\n2. 119\n\n\n",
            "text/html": [
              "<style>\n",
              ".list-inline {list-style: none; margin:0; padding: 0}\n",
              ".list-inline>li {display: inline-block}\n",
              ".list-inline>li:not(:last-child)::after {content: \"\\00b7\"; padding: 0 .5ex}\n",
              "</style>\n",
              "<ol class=list-inline><li>7501</li><li>119</li></ol>\n"
            ]
          },
          "metadata": {
            "tags": []
          }
        },
        {
          "output_type": "stream",
          "text": [
            "[1] \"The format of the dataset:\"\n"
          ],
          "name": "stdout"
        },
        {
          "output_type": "display_data",
          "data": {
            "text/plain": [
              "[1] \"transactions\"\n",
              "attr(,\"package\")\n",
              "[1] \"arules\""
            ],
            "text/latex": "'transactions'",
            "text/markdown": "'transactions'",
            "text/html": [
              "'transactions'"
            ]
          },
          "metadata": {
            "tags": []
          }
        }
      ]
    },
    {
      "cell_type": "code",
      "metadata": {
        "id": "lZAeu524jX69",
        "outputId": "62d339b1-0ffe-49d9-94a1-b5134e5a5749",
        "colab": {
          "base_uri": "https://localhost:8080/",
          "height": 34
        }
      },
      "source": [
        "# determining the frequency of items bought\n",
        "itemFrequency(sales_df[, 1:3])"
      ],
      "execution_count": 7,
      "outputs": [
        {
          "output_type": "display_data",
          "data": {
            "text/plain": [
              "          almonds antioxydant juice         asparagus \n",
              "      0.020397280       0.008932142       0.004799360 "
            ],
            "text/latex": "\\begin{description*}\n\\item[almonds] 0.0203972803626183\n\\item[antioxydant juice] 0.00893214238101587\n\\item[asparagus] 0.00479936008532196\n\\end{description*}\n",
            "text/markdown": "almonds\n:   0.0203972803626183antioxydant juice\n:   0.00893214238101587asparagus\n:   0.00479936008532196\n\n",
            "text/html": [
              "<style>\n",
              ".dl-inline {width: auto; margin:0; padding: 0}\n",
              ".dl-inline>dt, .dl-inline>dd {float: none; width: auto; display: inline-block}\n",
              ".dl-inline>dt::after {content: \":\\0020\"; padding-right: .5ex}\n",
              ".dl-inline>dt:not(:first-of-type) {padding-left: .5ex}\n",
              "</style><dl class=dl-inline><dt>almonds</dt><dd>0.0203972803626183</dd><dt>antioxydant juice</dt><dd>0.00893214238101587</dd><dt>asparagus</dt><dd>0.00479936008532196</dd></dl>\n"
            ]
          },
          "metadata": {
            "tags": []
          }
        }
      ]
    },
    {
      "cell_type": "markdown",
      "metadata": {
        "id": "86QqEY8LkMd8"
      },
      "source": [
        "**Observation**: In the output above the items that were frequently bought were almonds, antioxydant juice and asparagus."
      ]
    },
    {
      "cell_type": "code",
      "metadata": {
        "id": "C5cAHFK97qlZ",
        "outputId": "7d478ce5-4c73-421a-9bf9-1d38c584afe0",
        "colab": {
          "base_uri": "https://localhost:8080/",
          "height": 437
        }
      },
      "source": [
        "# Statistical summaries for the numerical columns\n",
        "summary(sales_df)"
      ],
      "execution_count": 8,
      "outputs": [
        {
          "output_type": "display_data",
          "data": {
            "text/plain": [
              "transactions as itemMatrix in sparse format with\n",
              " 7501 rows (elements/itemsets/transactions) and\n",
              " 119 columns (items) and a density of 0.03288973 \n",
              "\n",
              "most frequent items:\n",
              "mineral water          eggs     spaghetti  french fries     chocolate \n",
              "         1788          1348          1306          1282          1229 \n",
              "      (Other) \n",
              "        22405 \n",
              "\n",
              "element (itemset/transaction) length distribution:\n",
              "sizes\n",
              "   1    2    3    4    5    6    7    8    9   10   11   12   13   14   15   16 \n",
              "1754 1358 1044  816  667  493  391  324  259  139  102   67   40   22   17    4 \n",
              "  18   19   20 \n",
              "   1    2    1 \n",
              "\n",
              "   Min. 1st Qu.  Median    Mean 3rd Qu.    Max. \n",
              "  1.000   2.000   3.000   3.914   5.000  20.000 \n",
              "\n",
              "includes extended item information - examples:\n",
              "             labels\n",
              "1           almonds\n",
              "2 antioxydant juice\n",
              "3         asparagus"
            ]
          },
          "metadata": {
            "tags": []
          }
        }
      ]
    },
    {
      "cell_type": "markdown",
      "metadata": {
        "id": "lNzfs9ZyG_A_"
      },
      "source": [
        "# Exploratory Data Analysis"
      ]
    },
    {
      "cell_type": "code",
      "metadata": {
        "id": "bv7jlE4e0t7w",
        "outputId": "7f238ef2-f2f8-4e08-8ad5-18a2cd54f137",
        "colab": {
          "base_uri": "https://localhost:8080/",
          "height": 437
        }
      },
      "source": [
        "# plotting the frequency of items\n",
        "itemFrequencyPlot(sales_df, support = 0.1)"
      ],
      "execution_count": 10,
      "outputs": [
        {
          "output_type": "display_data",
          "data": {
            "image/png": "[encoded data removed]",
            "text/plain": [
              "plot without title"
            ]
          },
          "metadata": {
            "tags": [],
            "image/png": {
              "width": 420,
              "height": 420
            }
          }
        }
      ]
    },
    {
      "cell_type": "markdown",
      "metadata": {
        "id": "rW4u41f72btu"
      },
      "source": [
        "**Observation**: From the graph the most frequent item demanded was mineral water,eggs, french fries and spaghetti"
      ]
    },
    {
      "cell_type": "code",
      "metadata": {
        "id": "c8FAUmNE2sw9",
        "outputId": "f7fd14cd-7e26-4a74-ff75-b6d157f398bb",
        "colab": {
          "base_uri": "https://localhost:8080/",
          "height": 437
        }
      },
      "source": [
        "# getting the top 20 items that are frequently bought\n",
        "itemFrequencyPlot(sales_df, topN = 20)"
      ],
      "execution_count": 12,
      "outputs": [
        {
          "output_type": "display_data",
          "data": {
            "image/png": "[encoded data removed]",
            "text/plain": [
              "plot without title"
            ]
          },
          "metadata": {
            "tags": [],
            "image/png": {
              "width": 420,
              "height": 420
            }
          }
        }
      ]
    },
    {
      "cell_type": "code",
      "metadata": {
        "id": "z4n9vajc28RF",
        "outputId": "fec63dbc-f50a-44ee-fee5-0b3dd2714ff0",
        "colab": {
          "base_uri": "https://localhost:8080/",
          "height": 437
        }
      },
      "source": [
        "# visualization of the sparse matrix for the first five transactions\n",
        "image(sales_df[1:5])"
      ],
      "execution_count": 13,
      "outputs": [
        {
          "output_type": "display_data",
          "data": {
            "image/png": "[encoded data removed]",
            "text/plain": [
              "plot without title"
            ]
          },
          "metadata": {
            "tags": [],
            "image/png": {
              "width": 420,
              "height": 420
            }
          }
        }
      ]
    },
    {
      "cell_type": "code",
      "metadata": {
        "id": "0kKa-EsC3JUa",
        "outputId": "34864516-e64c-4edb-c162-9418085ecb5e",
        "colab": {
          "base_uri": "https://localhost:8080/",
          "height": 437
        }
      },
      "source": [
        "# visualization of a random sample of 200 transactions\n",
        "image(sample(sales_df, 200))"
      ],
      "execution_count": 16,
      "outputs": [
        {
          "output_type": "display_data",
          "data": {
            "image/png": "[encoded data removed]",
            "text/plain": [
              "plot without title"
            ]
          },
          "metadata": {
            "tags": [],
            "image/png": {
              "width": 420,
              "height": 420
            }
          }
        }
      ]
    },
    {
      "cell_type": "markdown",
      "metadata": {
        "id": "QZElfUZS4jI2"
      },
      "source": [
        "## Impementing the Solution"
      ]
    },
    {
      "cell_type": "code",
      "metadata": {
        "id": "fiGccmlA3TRf",
        "outputId": "6c658863-0f0b-4869-a438-2d6c47f0efaa",
        "colab": {
          "base_uri": "https://localhost:8080/",
          "height": 386
        }
      },
      "source": [
        "# default settings with no rules\n",
        "apriori(sales_df)"
      ],
      "execution_count": 17,
      "outputs": [
        {
          "output_type": "stream",
          "text": [
            "Apriori\n",
            "\n",
            "Parameter specification:\n",
            " confidence minval smax arem  aval originalSupport maxtime support minlen\n",
            "        0.8    0.1    1 none FALSE            TRUE       5     0.1      1\n",
            " maxlen target  ext\n",
            "     10  rules TRUE\n",
            "\n",
            "Algorithmic control:\n",
            " filter tree heap memopt load sort verbose\n",
            "    0.1 TRUE TRUE  FALSE TRUE    2    TRUE\n",
            "\n",
            "Absolute minimum support count: 750 \n",
            "\n",
            "set item appearances ...[0 item(s)] done [0.00s].\n",
            "set transactions ...[119 item(s), 7501 transaction(s)] done [0.00s].\n",
            "sorting and recoding items ... [7 item(s)] done [0.00s].\n",
            "creating transaction tree ... done [0.00s].\n",
            "checking subsets of size 1 2 done [0.00s].\n",
            "writing ... [0 rule(s)] done [0.00s].\n",
            "creating S4 object  ... done [0.00s].\n"
          ],
          "name": "stdout"
        },
        {
          "output_type": "display_data",
          "data": {
            "text/plain": [
              "set of 0 rules "
            ]
          },
          "metadata": {
            "tags": []
          }
        }
      ]
    },
    {
      "cell_type": "code",
      "metadata": {
        "id": "Hq9J6r2C4B_f",
        "outputId": "5b79ad24-9a35-403f-afbb-a41b332ceddd",
        "colab": {
          "base_uri": "https://localhost:8080/"
        }
      },
      "source": [
        "# better support and confidence levels set to learn more rules\n",
        "salesrules <- apriori(sales_df, parameter = list(support =\n",
        "                                                      0.006, confidence = 0.25, minlen = 2))"
      ],
      "execution_count": 18,
      "outputs": [
        {
          "output_type": "stream",
          "text": [
            "Apriori\n",
            "\n",
            "Parameter specification:\n",
            " confidence minval smax arem  aval originalSupport maxtime support minlen\n",
            "       0.25    0.1    1 none FALSE            TRUE       5   0.006      2\n",
            " maxlen target  ext\n",
            "     10  rules TRUE\n",
            "\n",
            "Algorithmic control:\n",
            " filter tree heap memopt load sort verbose\n",
            "    0.1 TRUE TRUE  FALSE TRUE    2    TRUE\n",
            "\n",
            "Absolute minimum support count: 45 \n",
            "\n",
            "set item appearances ...[0 item(s)] done [0.00s].\n",
            "set transactions ...[119 item(s), 7501 transaction(s)] done [0.00s].\n",
            "sorting and recoding items ... [97 item(s)] done [0.00s].\n",
            "creating transaction tree ... done [0.00s].\n",
            "checking subsets of size 1 2 3 4 done [0.00s].\n",
            "writing ... [272 rule(s)] done [0.00s].\n",
            "creating S4 object  ... done [0.00s].\n"
          ],
          "name": "stdout"
        }
      ]
    },
    {
      "cell_type": "code",
      "metadata": {
        "id": "g-g9Hjy44Rrh",
        "outputId": "b7d67bc5-ebe2-47e0-cffc-21707481fb29",
        "colab": {
          "base_uri": "https://localhost:8080/",
          "height": 34
        }
      },
      "source": [
        "# getting the rules that were established\n",
        "salesrules"
      ],
      "execution_count": 19,
      "outputs": [
        {
          "output_type": "display_data",
          "data": {
            "text/plain": [
              "set of 272 rules "
            ]
          },
          "metadata": {
            "tags": []
          }
        }
      ]
    },
    {
      "cell_type": "code",
      "metadata": {
        "id": "-s0p3qIH4cIz",
        "outputId": "4c8af937-d9db-4817-c82a-a90827836fca",
        "colab": {
          "base_uri": "https://localhost:8080/",
          "height": 487
        }
      },
      "source": [
        "# summary of sales association rules\n",
        "summary(salesrules)"
      ],
      "execution_count": 20,
      "outputs": [
        {
          "output_type": "display_data",
          "data": {
            "text/plain": [
              "set of 272 rules\n",
              "\n",
              "rule length distribution (lhs + rhs):sizes\n",
              "  2   3 \n",
              " 90 182 \n",
              "\n",
              "   Min. 1st Qu.  Median    Mean 3rd Qu.    Max. \n",
              "  2.000   2.000   3.000   2.669   3.000   3.000 \n",
              "\n",
              "summary of quality measures:\n",
              "    support           confidence        coverage            lift      \n",
              " Min.   :0.006133   Min.   :0.2500   Min.   :0.01133   Min.   :1.054  \n",
              " 1st Qu.:0.006932   1st Qu.:0.2854   1st Qu.:0.02040   1st Qu.:1.561  \n",
              " Median :0.008532   Median :0.3241   Median :0.02573   Median :1.783  \n",
              " Mean   :0.011492   Mean   :0.3454   Mean   :0.03502   Mean   :1.872  \n",
              " 3rd Qu.:0.012132   3rd Qu.:0.3960   3rd Qu.:0.03919   3rd Qu.:2.067  \n",
              " Max.   :0.059725   Max.   :0.5765   Max.   :0.23837   Max.   :4.122  \n",
              "     count      \n",
              " Min.   : 46.0  \n",
              " 1st Qu.: 52.0  \n",
              " Median : 64.0  \n",
              " Mean   : 86.2  \n",
              " 3rd Qu.: 91.0  \n",
              " Max.   :448.0  \n",
              "\n",
              "mining info:\n",
              "     data ntransactions support confidence\n",
              " sales_df          7501   0.006       0.25"
            ]
          },
          "metadata": {
            "tags": []
          }
        }
      ]
    },
    {
      "cell_type": "markdown",
      "metadata": {
        "id": "O_B-INUx41Cs"
      },
      "source": [
        "**Observation**: sales data contained 7501 transactions, was used to construct rules with a minimum support of 0.006 and minimum confidence of 0.25.\n",
        " With support of 0.006 and confidence of 0.25, implies that for a given rule it will cover 0.6 percent of the transactions and is correct in 40 percent of purchases involving another product. The lift value tells  how much more likely a customer is to buy a given product relative to the average customer, given that he or she bought a particular plot prior."
      ]
    },
    {
      "cell_type": "code",
      "metadata": {
        "id": "NfKTOUDT6J5C",
        "outputId": "0a3d2ddc-70df-4ac1-e585-f5dd31bc1ae8",
        "colab": {
          "base_uri": "https://localhost:8080/"
        }
      },
      "source": [
        "# looking at the first 5 rules\n",
        "inspect(salesrules[1:5])"
      ],
      "execution_count": 21,
      "outputs": [
        {
          "output_type": "stream",
          "text": [
            "    lhs               rhs             support     confidence coverage  \n",
            "[1] {tomato sauce} => {spaghetti}     0.006265831 0.4433962  0.01413145\n",
            "[2] {light cream}  => {mineral water} 0.007332356 0.4700855  0.01559792\n",
            "[3] {protein bar}  => {mineral water} 0.007732302 0.4172662  0.01853086\n",
            "[4] {meatballs}    => {spaghetti}     0.006399147 0.3057325  0.02093054\n",
            "[5] {meatballs}    => {mineral water} 0.007732302 0.3694268  0.02093054\n",
            "    lift     count\n",
            "[1] 2.546642 47   \n",
            "[2] 1.972098 55   \n",
            "[3] 1.750511 58   \n",
            "[4] 1.755972 48   \n",
            "[5] 1.549815 58   \n"
          ],
          "name": "stdout"
        }
      ]
    },
    {
      "cell_type": "markdown",
      "metadata": {
        "id": "FN-z5VrUqx9E"
      },
      "source": [
        "## Challenging the Solution"
      ]
    },
    {
      "cell_type": "code",
      "metadata": {
        "id": "3mSR8EWv6dJ5",
        "outputId": "54c29414-9994-45bb-e47c-dde8565ca068",
        "colab": {
          "base_uri": "https://localhost:8080/"
        }
      },
      "source": [
        "# sorting sales  rules by lift\n",
        "inspect(sort(salesrules, by = \"lift\")[1:5])"
      ],
      "execution_count": 22,
      "outputs": [
        {
          "output_type": "stream",
          "text": [
            "    lhs                              rhs                 support     confidence\n",
            "[1] {whole wheat pasta}           => {olive oil}         0.007998933 0.2714932 \n",
            "[2] {herb & pepper,spaghetti}     => {ground beef}       0.006399147 0.3934426 \n",
            "[3] {herb & pepper,mineral water} => {ground beef}       0.006665778 0.3906250 \n",
            "[4] {spaghetti,tomatoes}          => {frozen vegetables} 0.006665778 0.3184713 \n",
            "[5] {herb & pepper}               => {ground beef}       0.015997867 0.3234501 \n",
            "    coverage   lift     count\n",
            "[1] 0.02946274 4.122410  60  \n",
            "[2] 0.01626450 4.004360  48  \n",
            "[3] 0.01706439 3.975683  50  \n",
            "[4] 0.02093054 3.341054  50  \n",
            "[5] 0.04946007 3.291994 120  \n"
          ],
          "name": "stdout"
        }
      ]
    },
    {
      "cell_type": "markdown",
      "metadata": {
        "id": "DTtnZTL88jy6"
      },
      "source": [
        "These rules are quite diffferent from the previous one. The first rule, with a lift of about 4.12, implies that people who buy whole wheat pasta are nearly four times more likely to buy olive oil than the typical customer.\n",
        "\n",
        "Rule two:ground beef is over four times more likely to be found in a shopping cart with herb & pepper, spaghetti versus other carts, suggesting perhaps spiced beef  stew pairing?\n"
      ]
    },
    {
      "cell_type": "code",
      "metadata": {
        "id": "z1zq2gvk6rFB",
        "outputId": "d82d7b46-150d-416d-c2f2-ace4064fea26",
        "colab": {
          "base_uri": "https://localhost:8080/"
        }
      },
      "source": [
        "spaghettirules <- subset(salesrules, items %in% \"spaghetti\")\n",
        "inspect(spaghettirules[1:6])"
      ],
      "execution_count": 25,
      "outputs": [
        {
          "output_type": "stream",
          "text": [
            "    lhs                  rhs         support     confidence coverage   lift    \n",
            "[1] {tomato sauce}    => {spaghetti} 0.006265831 0.4433962  0.01413145 2.546642\n",
            "[2] {meatballs}       => {spaghetti} 0.006399147 0.3057325  0.02093054 1.755972\n",
            "[3] {parmesan cheese} => {spaghetti} 0.006799093 0.3422819  0.01986402 1.965893\n",
            "[4] {french wine}     => {spaghetti} 0.007732302 0.3431953  0.02253033 1.971139\n",
            "[5] {fresh tuna}      => {spaghetti} 0.006799093 0.3053892  0.02226370 1.754000\n",
            "[6] {pepper}          => {spaghetti} 0.009865351 0.3718593  0.02652980 2.135771\n",
            "    count\n",
            "[1] 47   \n",
            "[2] 48   \n",
            "[3] 51   \n",
            "[4] 58   \n",
            "[5] 51   \n",
            "[6] 74   \n"
          ],
          "name": "stdout"
        }
      ]
    },
    {
      "cell_type": "markdown",
      "metadata": {
        "id": "Yr1FLzSO8ikZ"
      },
      "source": [
        "**Observation**: The likelihood of spaghetti being in the same basket with the different products"
      ]
    },
    {
      "cell_type": "code",
      "metadata": {
        "id": "-pXXv3KV-3yW"
      },
      "source": [
        "# writing the rules to a CSV file\n",
        "write(salesrules, file = \"salesrules.csv\",\n",
        "      sep = \",\", quote = TRUE, row.names = FALSE)"
      ],
      "execution_count": 26,
      "outputs": []
    },
    {
      "cell_type": "code",
      "metadata": {
        "id": "x_11g7bcAYN0",
        "outputId": "4ef1e1fe-dcfa-4784-f126-7582a676909c",
        "colab": {
          "base_uri": "https://localhost:8080/"
        }
      },
      "source": [
        "# converting the rule set to a data frame\n",
        "salesrules_df <- as(salesrules, \"data.frame\")\n",
        "str(salesrules_df)"
      ],
      "execution_count": 27,
      "outputs": [
        {
          "output_type": "stream",
          "text": [
            "'data.frame':\t272 obs. of  6 variables:\n",
            " $ rules     : chr  \"{tomato sauce} => {spaghetti}\" \"{light cream} => {mineral water}\" \"{protein bar} => {mineral water}\" \"{meatballs} => {spaghetti}\" ...\n",
            " $ support   : num  0.00627 0.00733 0.00773 0.0064 0.00773 ...\n",
            " $ confidence: num  0.443 0.47 0.417 0.306 0.369 ...\n",
            " $ coverage  : num  0.0141 0.0156 0.0185 0.0209 0.0209 ...\n",
            " $ lift      : num  2.55 1.97 1.75 1.76 1.55 ...\n",
            " $ count     : int  47 55 58 48 58 51 58 51 49 57 ...\n"
          ],
          "name": "stdout"
        }
      ]
    },
    {
      "cell_type": "markdown",
      "metadata": {
        "id": "ZxJn6n3LVx34"
      },
      "source": [
        "## Conclusion"
      ]
    },
    {
      "cell_type": "markdown",
      "metadata": {
        "id": "C_2R6FcSXRTb"
      },
      "source": [
        " The Association Rule is very instrumental in looking at the items in customer transactions that are frequently bought. With the insights drawn from our analysis the marketing department can draw insights by looking into the products that are not frequently bought by introducing offers and reviewing the price list for products. For the goods that are frequentl bought find ways to sustain."
      ]
    }
  ]
}